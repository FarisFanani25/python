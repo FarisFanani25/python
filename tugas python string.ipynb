{
 "cells": [
  {
   "cell_type": "code",
   "execution_count": 1,
   "id": "02af6383",
   "metadata": {},
   "outputs": [
    {
     "name": "stdout",
     "output_type": "stream",
     "text": [
      "Jumlah huruf dari nama (Faris Fanani) adalah :  11\n",
      "Jumlah huruf vokal dari nama (Faris Fanani) adalah :  5\n",
      "Jumlah huruf konsonan dari nama (Faris Fanani) adalah :  6\n"
     ]
    }
   ],
   "source": [
    "nama = \"Faris Fanani\"\n",
    "\n",
    "#Menghitung jumlah huruf dari nama lengkap\n",
    "jumlah_huruf = len(nama.replace(\" \",\"\"))\n",
    "print(\"Jumlah huruf dari nama (Faris Fanani) adalah : \", jumlah_huruf)\n",
    "\n",
    "# Menghitung jumlah huruf vokal dari nama lengkap\n",
    "huruf_vokal = \"aiueoAIUEO\"\n",
    "jumlah_vokal = len([char for char in nama if char in huruf_vokal])\n",
    "print(\"Jumlah huruf vokal dari nama (Faris Fanani) adalah : \", jumlah_vokal)\n",
    "\n",
    "# Menghitung jumlah huruf konsonan dari nama lengkap\n",
    "huruf_konsonan = \"bcdfghjklmnpqrstvwxyzBCDFGHJKLMNPQRSTVWXYZ\"\n",
    "jumlah_konsonan = len([huruf for huruf in nama if huruf in huruf_konsonan])\n",
    "\n",
    "print(\"Jumlah huruf konsonan dari nama (Faris Fanani) adalah : \", jumlah_konsonan)"
   ]
  },
  {
   "cell_type": "code",
   "execution_count": null,
   "id": "bd5d5621",
   "metadata": {},
   "outputs": [],
   "source": []
  }
 ],
 "metadata": {
  "kernelspec": {
   "display_name": "Python 3 (ipykernel)",
   "language": "python",
   "name": "python3"
  },
  "language_info": {
   "codemirror_mode": {
    "name": "ipython",
    "version": 3
   },
   "file_extension": ".py",
   "mimetype": "text/x-python",
   "name": "python",
   "nbconvert_exporter": "python",
   "pygments_lexer": "ipython3",
   "version": "3.9.12"
  }
 },
 "nbformat": 4,
 "nbformat_minor": 5
}
