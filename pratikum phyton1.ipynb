{
 "cells": [
  {
   "cell_type": "code",
   "execution_count": null,
   "id": "b1516bcf",
   "metadata": {},
   "outputs": [],
   "source": [
    "umur = int(input('Masukan Usia Anda = '))\n",
    "if umur >= 18:\n",
    "    StatusKerja = input('Apakah Anda bekerja? (Y/N)')\n",
    "    if StatusKerja == 'Y':\n",
    "        gaji = float(input('Masukan pendapatan perbulan = '))\n",
    "        tanggungan = int(input('Masukan jumlah tanggungan = '))\n",
    "        BiayaHidup = gaji/tanggungan\n",
    "        if BiayaHidup < 300000:\n",
    "            print('--------------------------------------------------')\n",
    "            print('Anda masuk kategori penduduk miskin')\n",
    "        else:\n",
    "            print('--------------------------------------------------')\n",
    "            print('Anda masuk kategori penduduk tidak miskin')\n",
    "    else:\n",
    "        print('--------------------------------------------------')\n",
    "        print('Anda masuk kategori penduduk miskin')\n",
    "else:\n",
    "    StatusSekolah = input('Apakah kamu masih sekolah? (Y/N)')\n",
    "    if StatusSekolah =='Y':\n",
    "        print('----------------------------------------------------')\n",
    "        print('Anda masuk kategori bukan miskin')\n",
    "    else:\n",
    "        print('----------------------------------------------------')\n",
    "        print('Anda masuk kategori penduduk miskin')"
   ]
  },
  {
   "cell_type": "code",
   "execution_count": null,
   "id": "99438bf3",
   "metadata": {},
   "outputs": [],
   "source": []
  }
 ],
 "metadata": {
  "kernelspec": {
   "display_name": "Python 3 (ipykernel)",
   "language": "python",
   "name": "python3"
  },
  "language_info": {
   "codemirror_mode": {
    "name": "ipython",
    "version": 3
   },
   "file_extension": ".py",
   "mimetype": "text/x-python",
   "name": "python",
   "nbconvert_exporter": "python",
   "pygments_lexer": "ipython3",
   "version": "3.9.12"
  }
 },
 "nbformat": 4,
 "nbformat_minor": 5
}
